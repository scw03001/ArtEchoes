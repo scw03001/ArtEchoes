{
 "cells": [
  {
   "cell_type": "code",
   "execution_count": 6,
   "metadata": {},
   "outputs": [],
   "source": [
    "import pandas as pd"
   ]
  },
  {
   "cell_type": "code",
   "execution_count": 7,
   "metadata": {},
   "outputs": [],
   "source": [
    "df = pd.read_csv('artists.csv')"
   ]
  },
  {
   "cell_type": "code",
   "execution_count": 8,
   "metadata": {},
   "outputs": [],
   "source": [
    "names = df['name'].tolist()"
   ]
  },
  {
   "cell_type": "code",
   "execution_count": 9,
   "metadata": {},
   "outputs": [],
   "source": [
    "names.sort()"
   ]
  },
  {
   "cell_type": "code",
   "execution_count": 10,
   "metadata": {},
   "outputs": [
    {
     "data": {
      "text/plain": [
       "['Albrecht Dürer',\n",
       " 'Alfred Sisley',\n",
       " 'Amedeo Modigliani',\n",
       " 'Andrei Rublev',\n",
       " 'Andy Warhol',\n",
       " 'Camille Pissarro',\n",
       " 'Caravaggio',\n",
       " 'Claude Monet',\n",
       " 'Diego Rivera',\n",
       " 'Diego Velazquez',\n",
       " 'Edgar Degas',\n",
       " 'Edouard Manet',\n",
       " 'Edvard Munch',\n",
       " 'El Greco',\n",
       " 'Eugene Delacroix',\n",
       " 'Francisco Goya',\n",
       " 'Frida Kahlo',\n",
       " 'Georges Seurat',\n",
       " 'Giotto di Bondone',\n",
       " 'Gustav Klimt',\n",
       " 'Gustave Courbet',\n",
       " 'Henri Matisse',\n",
       " 'Henri Rousseau',\n",
       " 'Henri de Toulouse-Lautrec',\n",
       " 'Hieronymus Bosch',\n",
       " 'Jackson Pollock',\n",
       " 'Jan van Eyck',\n",
       " 'Joan Miro',\n",
       " 'Kazimir Malevich',\n",
       " 'Leonardo da Vinci',\n",
       " 'Marc Chagall',\n",
       " 'Michelangelo',\n",
       " 'Mikhail Vrubel',\n",
       " 'Pablo Picasso',\n",
       " 'Paul Cezanne',\n",
       " 'Paul Gauguin',\n",
       " 'Paul Klee',\n",
       " 'Peter Paul Rubens',\n",
       " 'Pierre-Auguste Renoir',\n",
       " 'Piet Mondrian',\n",
       " 'Pieter Bruegel',\n",
       " 'Raphael',\n",
       " 'Rembrandt',\n",
       " 'Rene Magritte',\n",
       " 'Salvador Dali',\n",
       " 'Sandro Botticelli',\n",
       " 'Titian',\n",
       " 'Vasiliy Kandinskiy',\n",
       " 'Vincent van Gogh',\n",
       " 'William Turner']"
      ]
     },
     "execution_count": 10,
     "metadata": {},
     "output_type": "execute_result"
    }
   ],
   "source": [
    "names"
   ]
  },
  {
   "cell_type": "code",
   "execution_count": 11,
   "metadata": {},
   "outputs": [],
   "source": [
    "names_dict = {i: name for i, name in enumerate(names)}"
   ]
  },
  {
   "cell_type": "code",
   "execution_count": 12,
   "metadata": {},
   "outputs": [
    {
     "data": {
      "text/plain": [
       "{0: 'Albrecht Dürer',\n",
       " 1: 'Alfred Sisley',\n",
       " 2: 'Amedeo Modigliani',\n",
       " 3: 'Andrei Rublev',\n",
       " 4: 'Andy Warhol',\n",
       " 5: 'Camille Pissarro',\n",
       " 6: 'Caravaggio',\n",
       " 7: 'Claude Monet',\n",
       " 8: 'Diego Rivera',\n",
       " 9: 'Diego Velazquez',\n",
       " 10: 'Edgar Degas',\n",
       " 11: 'Edouard Manet',\n",
       " 12: 'Edvard Munch',\n",
       " 13: 'El Greco',\n",
       " 14: 'Eugene Delacroix',\n",
       " 15: 'Francisco Goya',\n",
       " 16: 'Frida Kahlo',\n",
       " 17: 'Georges Seurat',\n",
       " 18: 'Giotto di Bondone',\n",
       " 19: 'Gustav Klimt',\n",
       " 20: 'Gustave Courbet',\n",
       " 21: 'Henri Matisse',\n",
       " 22: 'Henri Rousseau',\n",
       " 23: 'Henri de Toulouse-Lautrec',\n",
       " 24: 'Hieronymus Bosch',\n",
       " 25: 'Jackson Pollock',\n",
       " 26: 'Jan van Eyck',\n",
       " 27: 'Joan Miro',\n",
       " 28: 'Kazimir Malevich',\n",
       " 29: 'Leonardo da Vinci',\n",
       " 30: 'Marc Chagall',\n",
       " 31: 'Michelangelo',\n",
       " 32: 'Mikhail Vrubel',\n",
       " 33: 'Pablo Picasso',\n",
       " 34: 'Paul Cezanne',\n",
       " 35: 'Paul Gauguin',\n",
       " 36: 'Paul Klee',\n",
       " 37: 'Peter Paul Rubens',\n",
       " 38: 'Pierre-Auguste Renoir',\n",
       " 39: 'Piet Mondrian',\n",
       " 40: 'Pieter Bruegel',\n",
       " 41: 'Raphael',\n",
       " 42: 'Rembrandt',\n",
       " 43: 'Rene Magritte',\n",
       " 44: 'Salvador Dali',\n",
       " 45: 'Sandro Botticelli',\n",
       " 46: 'Titian',\n",
       " 47: 'Vasiliy Kandinskiy',\n",
       " 48: 'Vincent van Gogh',\n",
       " 49: 'William Turner'}"
      ]
     },
     "execution_count": 12,
     "metadata": {},
     "output_type": "execute_result"
    }
   ],
   "source": [
    "names_dict"
   ]
  }
 ],
 "metadata": {
  "kernelspec": {
   "display_name": "appliedCV",
   "language": "python",
   "name": "python3"
  },
  "language_info": {
   "codemirror_mode": {
    "name": "ipython",
    "version": 3
   },
   "file_extension": ".py",
   "mimetype": "text/x-python",
   "name": "python",
   "nbconvert_exporter": "python",
   "pygments_lexer": "ipython3",
   "version": "3.12.2"
  }
 },
 "nbformat": 4,
 "nbformat_minor": 2
}
